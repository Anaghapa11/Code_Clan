{
 "cells": [
  {
   "cell_type": "code",
   "execution_count": 5,
   "id": "8bc7702d-320d-4333-8752-13150fffc256",
   "metadata": {},
   "outputs": [
    {
     "name": "stdin",
     "output_type": "stream",
     "text": [
      "Enter the temperature:  8\n",
      "Enter the unit (C for Celsius, F for Fahrenheit):  c\n"
     ]
    },
    {
     "name": "stdout",
     "output_type": "stream",
     "text": [
      "Temperature in Fahrenheit: 46.4\n"
     ]
    }
   ],
   "source": [
    "temp = float(input(\"Enter the temperature: \"))\n",
    "unit = input(\"Enter the unit (C for Celsius, F for Fahrenheit): \")\n",
    "\n",
    "if unit.upper() == \"C\":\n",
    "    converted = (temp * 9/5) + 32\n",
    "    print(\"Temperature in Fahrenheit:\", converted)\n",
    "elif unit.upper() == \"F\":\n",
    "    converted = (temp - 32) * 5/9\n",
    "    print(\"Temperature in Celsius:\", converted)\n",
    "else:\n",
    "    print(\"Invalid unit! Enter 'C' or 'F'.\")"
   ]
  }
 ],
 "metadata": {
  "kernelspec": {
   "display_name": "Python [conda env:base] *",
   "language": "python",
   "name": "conda-base-py"
  },
  "language_info": {
   "codemirror_mode": {
    "name": "ipython",
    "version": 3
   },
   "file_extension": ".py",
   "mimetype": "text/x-python",
   "name": "python",
   "nbconvert_exporter": "python",
   "pygments_lexer": "ipython3",
   "version": "3.12.7"
  }
 },
 "nbformat": 4,
 "nbformat_minor": 5
}
