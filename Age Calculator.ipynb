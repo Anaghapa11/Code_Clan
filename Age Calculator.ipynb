{
 "cells": [
  {
   "cell_type": "code",
   "execution_count": 16,
   "id": "503b8724-74ea-4c73-9a7e-2322ce6428e7",
   "metadata": {},
   "outputs": [
    {
     "name": "stdin",
     "output_type": "stream",
     "text": [
      "Enter Your birth year: 2002\n"
     ]
    },
    {
     "name": "stdout",
     "output_type": "stream",
     "text": [
      "I found this out, You are 23 years old.\n"
     ]
    }
   ],
   "source": [
    "from datetime import date \n",
    "today = date.today()\n",
    "birth_year = int(input(\"Enter Your birth year:\"))\n",
    "age = today.year - birth_year\n",
    "print(f\"I found this out, You are {age} years old.\")\n"
   ]
  }
 ],
 "metadata": {
  "kernelspec": {
   "display_name": "Python [conda env:base] *",
   "language": "python",
   "name": "conda-base-py"
  },
  "language_info": {
   "codemirror_mode": {
    "name": "ipython",
    "version": 3
   },
   "file_extension": ".py",
   "mimetype": "text/x-python",
   "name": "python",
   "nbconvert_exporter": "python",
   "pygments_lexer": "ipython3",
   "version": "3.12.7"
  }
 },
 "nbformat": 4,
 "nbformat_minor": 5
}
