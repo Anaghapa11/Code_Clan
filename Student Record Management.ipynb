{
 "cells": [
  {
   "cell_type": "code",
   "execution_count": 3,
   "id": "aa050a17-6808-4570-81c5-a0983480a397",
   "metadata": {},
   "outputs": [],
   "source": [
    "import os\n",
    "import shutil\n",
    "\n",
    "def get_filename():\n",
    "    grade = input(\"Enter the grade (e.g., '10', '11'): \")\n",
    "    return f\"grade_{grade}.txt\"\n",
    "\n",
    "def add_student(filename):\n",
    "    with open(filename, \"a\") as file:\n",
    "        student_name = input(\"Enter student name: \")\n",
    "        student_id = input(\"Enter student ID: \")\n",
    "        file.write(f\"{student_id}, {student_name}\\n\")\n",
    "    print(\"Student details added successfully.\")"
   ]
  },
  {
   "cell_type": "code",
   "execution_count": 5,
   "id": "ea8aaa5a-49c6-4c00-8bef-d21cc8c3b203",
   "metadata": {},
   "outputs": [],
   "source": [
    "def read_file(filename):\n",
    "    if os.path.exists(filename):\n",
    "        with open(filename, \"r\") as file:\n",
    "            print(\"\\nStudent Records:\")\n",
    "            print(file.read())\n",
    "    else:\n",
    "        print(\"File does not exist.\")"
   ]
  },
  {
   "cell_type": "code",
   "execution_count": 11,
   "id": "887db004-ab66-4355-9515-2aa50bec0ce9",
   "metadata": {},
   "outputs": [],
   "source": [
    "def create_backup(filename):\n",
    "    backup_filename = f\"{filename}.bak\"\n",
    "    shutil.copy(filename, backup_filename)\n",
    "    print(f\"Backup created: {backup_filename}\")\n",
    "    return backup_filename\n",
    "\n",
    "def delete_original(filename, backup_filename):\n",
    "    if os.path.exists(backup_filename):\n",
    "        os.remove(filename)\n",
    "        print(f\"Original file {filename} deleted.\")\n",
    "    else:\n",
    "        print(\"Backup does not exist. Cannot delete the original file.\")\n"
   ]
  },
  {
   "cell_type": "code",
   "execution_count": 15,
   "id": "2008c0cc-d3c9-4b78-98b3-9c540a39886b",
   "metadata": {},
   "outputs": [
    {
     "name": "stdin",
     "output_type": "stream",
     "text": [
      "Enter the grade (e.g., '10', '11'):  1\n"
     ]
    },
    {
     "name": "stdout",
     "output_type": "stream",
     "text": [
      "New file grade_1.txt created.\n"
     ]
    },
    {
     "name": "stdin",
     "output_type": "stream",
     "text": [
      "Enter student name:  John\n",
      "Enter student ID:  984589\n"
     ]
    },
    {
     "name": "stdout",
     "output_type": "stream",
     "text": [
      "Student details added successfully.\n"
     ]
    },
    {
     "name": "stdin",
     "output_type": "stream",
     "text": [
      "Do you want to read the file? (yes/no):  Yes\n"
     ]
    },
    {
     "name": "stdout",
     "output_type": "stream",
     "text": [
      "\n",
      "Student Records:\n",
      "984589, John\n",
      "\n"
     ]
    },
    {
     "name": "stdin",
     "output_type": "stream",
     "text": [
      "Do you want to create a backup? (yes/no):  yes\n"
     ]
    },
    {
     "name": "stdout",
     "output_type": "stream",
     "text": [
      "Backup created: grade_1.txt.bak\n"
     ]
    },
    {
     "name": "stdin",
     "output_type": "stream",
     "text": [
      "Do you want to delete the original file? (yes/no):  no\n"
     ]
    }
   ],
   "source": [
    "def main():\n",
    "    filename = get_filename()\n",
    "\n",
    "    if not os.path.exists(filename):\n",
    "        open(filename, \"w\").close()\n",
    "        print(f\"New file {filename} created.\")\n",
    "\n",
    "    add_student(filename)\n",
    "\n",
    "    if input(\"Do you want to read the file? (yes/no): \").lower() == \"yes\":\n",
    "        read_file(filename)\n",
    "\n",
    "    backup_filename = None\n",
    "    if input(\"Do you want to create a backup? (yes/no): \").lower() == \"yes\":\n",
    "        backup_filename = create_backup(filename)\n",
    "\n",
    "    if input(\"Do you want to delete the original file? (yes/no): \").lower() == \"yes\":\n",
    "        if backup_filename:\n",
    "            delete_original(filename, backup_filename)\n",
    "        else:\n",
    "            print(\"Cannot delete original file as no backup exists.\")\n",
    "\n",
    "if __name__ == \"__main__\":\n",
    "    main()"
   ]
  }
 ],
 "metadata": {
  "kernelspec": {
   "display_name": "Python [conda env:base] *",
   "language": "python",
   "name": "conda-base-py"
  },
  "language_info": {
   "codemirror_mode": {
    "name": "ipython",
    "version": 3
   },
   "file_extension": ".py",
   "mimetype": "text/x-python",
   "name": "python",
   "nbconvert_exporter": "python",
   "pygments_lexer": "ipython3",
   "version": "3.12.7"
  }
 },
 "nbformat": 4,
 "nbformat_minor": 5
}
