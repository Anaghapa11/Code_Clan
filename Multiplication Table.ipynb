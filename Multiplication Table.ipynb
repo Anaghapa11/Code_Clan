{
 "cells": [
  {
   "cell_type": "code",
   "execution_count": 1,
   "id": "78fcdd40-f35b-4bb2-b651-af5218f3f75d",
   "metadata": {},
   "outputs": [
    {
     "name": "stdin",
     "output_type": "stream",
     "text": [
      "Enter a number:  7\n"
     ]
    },
    {
     "name": "stdout",
     "output_type": "stream",
     "text": [
      "Multiplication table of 7:\n",
      "7 × 1 = 7\n",
      "7 × 2 = 14\n",
      "7 × 3 = 21\n",
      "7 × 4 = 28\n",
      "7 × 5 = 35\n",
      "7 × 6 = 42\n",
      "7 × 7 = 49\n",
      "7 × 8 = 56\n",
      "7 × 9 = 63\n",
      "7 × 10 = 70\n"
     ]
    }
   ],
   "source": [
    "# Get a number from the user\n",
    "num = int(input(\"Enter a number: \"))\n",
    "\n",
    "# Print multiplication table up to 10\n",
    "print(f\"Multiplication table of {num}:\")\n",
    "for i in range(1, 11):\n",
    "    print(f\"{num} × {i} = {num * i}\")\n"
   ]
  },
  {
   "cell_type": "code",
   "execution_count": 3,
   "id": "88851486-53f6-4385-82c4-727aa06ea4bc",
   "metadata": {},
   "outputs": [
    {
     "ename": "SyntaxError",
     "evalue": "unterminated f-string literal (detected at line 2) (456316980.py, line 2)",
     "output_type": "error",
     "traceback": [
      "\u001b[1;36m  Cell \u001b[1;32mIn[3], line 2\u001b[1;36m\u001b[0m\n\u001b[1;33m    print(f'Multiplication table of\u001b[0m\n\u001b[1;37m          ^\u001b[0m\n\u001b[1;31mSyntaxError\u001b[0m\u001b[1;31m:\u001b[0m unterminated f-string literal (detected at line 2)\n"
     ]
    }
   ],
   "source": [
    "num = int(input('Enter a number: '))\n",
    "print(f'Multiplication table of {num}:')\n",
    "for i in range(1,11):\n",
    "    print(f'{num} *"
   ]
  },
  {
   "cell_type": "code",
   "execution_count": null,
   "id": "1938e317-b0c2-4d11-9a0f-1b0acbf2addb",
   "metadata": {},
   "outputs": [],
   "source": []
  }
 ],
 "metadata": {
  "kernelspec": {
   "display_name": "Python [conda env:base] *",
   "language": "python",
   "name": "conda-base-py"
  },
  "language_info": {
   "codemirror_mode": {
    "name": "ipython",
    "version": 3
   },
   "file_extension": ".py",
   "mimetype": "text/x-python",
   "name": "python",
   "nbconvert_exporter": "python",
   "pygments_lexer": "ipython3",
   "version": "3.12.7"
  }
 },
 "nbformat": 4,
 "nbformat_minor": 5
}
