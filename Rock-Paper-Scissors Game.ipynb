{
 "cells": [
  {
   "cell_type": "code",
   "execution_count": 5,
   "id": "856c5a88-954a-406d-8da2-30900dd15bc3",
   "metadata": {},
   "outputs": [
    {
     "name": "stdout",
     "output_type": "stream",
     "text": [
      "Welcome to Rock-Paper-Scissors!\n"
     ]
    },
    {
     "name": "stdin",
     "output_type": "stream",
     "text": [
      "Please choose one of the following: rock, paper,scissors.  rock\n"
     ]
    },
    {
     "name": "stdout",
     "output_type": "stream",
     "text": [
      "Computer choice: scissors\n",
      "You win!\n",
      "Score: Player 1 - Computer 0\n"
     ]
    },
    {
     "name": "stdin",
     "output_type": "stream",
     "text": [
      "Play again? (yes/no):  yes\n",
      "Please choose one of the following: rock, paper,scissors.  scissors\n"
     ]
    },
    {
     "name": "stdout",
     "output_type": "stream",
     "text": [
      "Computer choice: rock\n",
      "Computer wins!\n",
      "Score: Player 1 - Computer 1\n"
     ]
    },
    {
     "name": "stdin",
     "output_type": "stream",
     "text": [
      "Play again? (yes/no):  yes\n",
      "Please choose one of the following: rock, paper,scissors.  paper\n"
     ]
    },
    {
     "name": "stdout",
     "output_type": "stream",
     "text": [
      "Computer choice: rock\n",
      "You win!\n",
      "Score: Player 2 - Computer 1\n"
     ]
    },
    {
     "name": "stdin",
     "output_type": "stream",
     "text": [
      "Play again? (yes/no):  no\n"
     ]
    },
    {
     "name": "stdout",
     "output_type": "stream",
     "text": [
      "Final score: 2 - 1\n",
      "Thanks for playing!\n"
     ]
    }
   ],
   "source": [
    "import random\n",
    "choices = [\"rock\", \"paper\", \"scissors\"]\n",
    "player_score = 0\n",
    "computer_score = 0\n",
    "print(\"Welcome to Rock-Paper-Scissors!\")\n",
    "while True:\n",
    "    player_choice = input(\"Please choose one of the following: rock, paper,scissors. \").lower()\n",
    "    if player_choice not in choices:\n",
    "        print(\"Invalid choice, try again.\")\n",
    "        continue    \n",
    "    computer_choice = random.choice(choices)\n",
    "    print(\"Computer choice:\", computer_choice)\n",
    "    if player_choice == computer_choice:\n",
    "        print(\"It's a tie!\")\n",
    "    elif (player_choice == \"rock\" and computer_choice == \"scissors\") or \\\n",
    "         (player_choice == \"paper\" and computer_choice == \"rock\") or \\\n",
    "         (player_choice == \"scissors\" and computer_choice == \"paper\"):\n",
    "        print(\"You win!\")\n",
    "        player_score += 1\n",
    "    else:\n",
    "        print(\"Computer wins!\")\n",
    "        computer_score += 1\n",
    "    print(f\"Score: Player {player_score} - Computer {computer_score}\")\n",
    "    play_again = input(\"Play again? (yes/no): \").lower()\n",
    "    if play_again != \"yes\":\n",
    "        print(\"Final score:\", player_score, \"-\", computer_score)\n",
    "        print(\"Thanks for playing!\")\n",
    "        break"
   ]
  }
 ],
 "metadata": {
  "kernelspec": {
   "display_name": "Python [conda env:base] *",
   "language": "python",
   "name": "conda-base-py"
  },
  "language_info": {
   "codemirror_mode": {
    "name": "ipython",
    "version": 3
   },
   "file_extension": ".py",
   "mimetype": "text/x-python",
   "name": "python",
   "nbconvert_exporter": "python",
   "pygments_lexer": "ipython3",
   "version": "3.12.7"
  }
 },
 "nbformat": 4,
 "nbformat_minor": 5
}
