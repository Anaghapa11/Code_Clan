{
 "cells": [
  {
   "cell_type": "code",
   "execution_count": 7,
   "id": "826535f2-c37e-41cc-8204-0f61f3c92a70",
   "metadata": {},
   "outputs": [
    {
     "name": "stdout",
     "output_type": "stream",
     "text": [
      "Select an operation:\n",
      "1. Addition (+)\n",
      "2. Subtraction (-)\n",
      "3. Multiplication (*)\n",
      "4. Division (/)\n"
     ]
    },
    {
     "name": "stdin",
     "output_type": "stream",
     "text": [
      "Enter 1, 2, 3, or 4:  4\n",
      "Enter two numbers separated by space:  4 2\n"
     ]
    },
    {
     "name": "stdout",
     "output_type": "stream",
     "text": [
      "Result: 2.0\n"
     ]
    }
   ],
   "source": [
    "print(\"Select an operation:\")\n",
    "print(\"1. Addition (+)\")\n",
    "print(\"2. Subtraction (-)\")\n",
    "print(\"3. Multiplication (*)\")\n",
    "print(\"4. Division (/)\")\n",
    "\n",
    "choice = input(\"Enter 1, 2, 3, or 4: \")\n",
    "\n",
    "num1, num2 = map(float, input(\"Enter two numbers separated by space: \").split())\n",
    "\n",
    "if choice == \"1\":\n",
    "    print(\"Result:\", num1 + num2)\n",
    "elif choice == \"2\":\n",
    "    print(\"Result:\", num1 - num2)\n",
    "elif choice == \"3\":\n",
    "    print(\"Result:\", num1 * num2)\n",
    "elif choice == \"4\":\n",
    "    if num2 != 0:\n",
    "        print(\"Result:\", num1 / num2)\n",
    "    else:\n",
    "        print(\"Error! Division by zero.\")\n",
    "else:\n",
    "    print(\"Invalid choice! Please select 1, 2, 3, or 4.\")"
   ]
  }
 ],
 "metadata": {
  "kernelspec": {
   "display_name": "Python [conda env:base] *",
   "language": "python",
   "name": "conda-base-py"
  },
  "language_info": {
   "codemirror_mode": {
    "name": "ipython",
    "version": 3
   },
   "file_extension": ".py",
   "mimetype": "text/x-python",
   "name": "python",
   "nbconvert_exporter": "python",
   "pygments_lexer": "ipython3",
   "version": "3.12.7"
  }
 },
 "nbformat": 4,
 "nbformat_minor": 5
}
