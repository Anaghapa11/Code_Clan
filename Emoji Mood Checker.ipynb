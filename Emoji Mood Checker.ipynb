{
 "cells": [
  {
   "cell_type": "code",
   "execution_count": 21,
   "id": "670d531e-9328-4c4e-8e45-2215b25f0cb2",
   "metadata": {},
   "outputs": [
    {
     "name": "stdin",
     "output_type": "stream",
     "text": [
      "How are you feeling today?  Happy\n"
     ]
    },
    {
     "name": "stdout",
     "output_type": "stream",
     "text": [
      "😊 That's great to hear!\n"
     ]
    }
   ],
   "source": [
    "feeling = input(\"How are you feeling today? \").lower()\n",
    "emoji_responses = {\n",
    "    \"happy\": \"😊 That's great to hear!\",\n",
    "    \"sad\": \"😢 I hope your day gets better!\",\n",
    "    \"excited\": \"🤩 Woohoo! Keep the energy up!\",\n",
    "    \"tired\": \"😴 Get some rest and recharge!\",\n",
    "    \"angry\": \"😡 Take a deep breath and relax.\",\n",
    "    \"nervous\": \"😰 You've got this! Stay confident!\",\n",
    "    \"bored\": \"😐 Maybe try something new and fun!\",\n",
    "    \"loved\": \"😍 Aww, that's wonderful!\"}\n",
    "response = emoji_responses.get(feeling, \"🤔 I’m not sure how to respond, but I hope you have a great day!\")\n",
    "print(response)"
   ]
  }
 ],
 "metadata": {
  "kernelspec": {
   "display_name": "Python [conda env:base] *",
   "language": "python",
   "name": "conda-base-py"
  },
  "language_info": {
   "codemirror_mode": {
    "name": "ipython",
    "version": 3
   },
   "file_extension": ".py",
   "mimetype": "text/x-python",
   "name": "python",
   "nbconvert_exporter": "python",
   "pygments_lexer": "ipython3",
   "version": "3.12.7"
  }
 },
 "nbformat": 4,
 "nbformat_minor": 5
}
