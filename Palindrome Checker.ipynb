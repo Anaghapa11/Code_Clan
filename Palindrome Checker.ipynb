{
 "cells": [
  {
   "cell_type": "code",
   "execution_count": 13,
   "id": "2f129524-3272-4aec-add5-8034fc691fab",
   "metadata": {},
   "outputs": [
    {
     "name": "stdin",
     "output_type": "stream",
     "text": [
      "Enter a word or phrase:  malayalam\n"
     ]
    },
    {
     "name": "stdout",
     "output_type": "stream",
     "text": [
      "Yes, \"malayalam\" is a palindrome!\n"
     ]
    }
   ],
   "source": [
    "def is_palindrome(text):\n",
    "    clean_text = \"\".join(char.lower() for char in text if char.isalnum())  # Keep only letters and numbers\n",
    "    return clean_text == clean_text[::-1] \n",
    "user_input = input(\"Enter a word or phrase: \")\n",
    "if is_palindrome(user_input):\n",
    "    print(f'Yes, \"{user_input}\" is a palindrome!')\n",
    "else:\n",
    "    print(f'No, \"{user_input}\" is not a palindrome.')"
   ]
  }
 ],
 "metadata": {
  "kernelspec": {
   "display_name": "Python [conda env:base] *",
   "language": "python",
   "name": "conda-base-py"
  },
  "language_info": {
   "codemirror_mode": {
    "name": "ipython",
    "version": 3
   },
   "file_extension": ".py",
   "mimetype": "text/x-python",
   "name": "python",
   "nbconvert_exporter": "python",
   "pygments_lexer": "ipython3",
   "version": "3.12.7"
  }
 },
 "nbformat": 4,
 "nbformat_minor": 5
}
