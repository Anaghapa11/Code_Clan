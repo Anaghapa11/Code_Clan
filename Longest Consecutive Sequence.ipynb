{
 "cells": [
  {
   "cell_type": "code",
   "execution_count": 15,
   "id": "0b532bd5-f509-4527-a4bd-34d33b7d9b82",
   "metadata": {},
   "outputs": [
    {
     "name": "stdin",
     "output_type": "stream",
     "text": [
      "Enter numbers separated by spaces:  8 5 9 4 3\n"
     ]
    },
    {
     "name": "stdout",
     "output_type": "stream",
     "text": [
      "Longest Consecutive Sequence Length: 3\n"
     ]
    }
   ],
   "source": [
    "def longest_consecutive_sequence(nums):\n",
    "    num_set = set(nums)\n",
    "    longest_streak = 0\n",
    "    for num in num_set:\n",
    "        if num - 1 not in num_set:  \n",
    "            current_num = num\n",
    "            current_streak = 1\n",
    "            \n",
    "            while current_num + 1 in num_set:\n",
    "                current_num += 1\n",
    "                current_streak += 1\n",
    "            longest_streak = max(longest_streak, current_streak)\n",
    "      \n",
    "            return longest_streak\n",
    "\n",
    "if __name__ == \"__main__\":\n",
    "    nums = list(map(int, input(\"Enter numbers separated by spaces: \").split()))\n",
    "    print(\"Longest Consecutive Sequence Length:\", longest_consecutive_sequence(nums)) "
   ]
  }
 ],
 "metadata": {
  "kernelspec": {
   "display_name": "Python [conda env:base] *",
   "language": "python",
   "name": "conda-base-py"
  },
  "language_info": {
   "codemirror_mode": {
    "name": "ipython",
    "version": 3
   },
   "file_extension": ".py",
   "mimetype": "text/x-python",
   "name": "python",
   "nbconvert_exporter": "python",
   "pygments_lexer": "ipython3",
   "version": "3.12.7"
  }
 },
 "nbformat": 4,
 "nbformat_minor": 5
}
